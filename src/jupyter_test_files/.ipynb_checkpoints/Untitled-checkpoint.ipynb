{
 "cells": [
  {
   "cell_type": "markdown",
   "metadata": {},
   "source": [
    "# Data Visualization with Pandas and matplotlib\n"
   ]
  },
  {
   "cell_type": "code",
   "execution_count": 5,
   "metadata": {},
   "outputs": [
    {
     "data": {
      "text/html": [
       "<div>\n",
       "<style scoped>\n",
       "    .dataframe tbody tr th:only-of-type {\n",
       "        vertical-align: middle;\n",
       "    }\n",
       "\n",
       "    .dataframe tbody tr th {\n",
       "        vertical-align: top;\n",
       "    }\n",
       "\n",
       "    .dataframe thead th {\n",
       "        text-align: right;\n",
       "    }\n",
       "</style>\n",
       "<table border=\"1\" class=\"dataframe\">\n",
       "  <thead>\n",
       "    <tr style=\"text-align: right;\">\n",
       "      <th></th>\n",
       "      <th>Age</th>\n",
       "      <th>Interest</th>\n",
       "      <th>Qualification</th>\n",
       "      <th>Experience</th>\n",
       "      <th>Level</th>\n",
       "      <th>Company</th>\n",
       "    </tr>\n",
       "    <tr>\n",
       "      <th>Id</th>\n",
       "      <th></th>\n",
       "      <th></th>\n",
       "      <th></th>\n",
       "      <th></th>\n",
       "      <th></th>\n",
       "      <th></th>\n",
       "    </tr>\n",
       "  </thead>\n",
       "  <tbody>\n",
       "    <tr>\n",
       "      <th>1.0</th>\n",
       "      <td>44.0</td>\n",
       "      <td>PHP</td>\n",
       "      <td>+2</td>\n",
       "      <td>0.0</td>\n",
       "      <td>Entry</td>\n",
       "      <td>Deerwalk</td>\n",
       "    </tr>\n",
       "    <tr>\n",
       "      <th>2.0</th>\n",
       "      <td>25.0</td>\n",
       "      <td>JS</td>\n",
       "      <td>Bachelors</td>\n",
       "      <td>4.0</td>\n",
       "      <td>Senior</td>\n",
       "      <td>F1soft</td>\n",
       "    </tr>\n",
       "    <tr>\n",
       "      <th>3.0</th>\n",
       "      <td>32.0</td>\n",
       "      <td>python</td>\n",
       "      <td>Bachelors</td>\n",
       "      <td>4.0</td>\n",
       "      <td>Senior</td>\n",
       "      <td>Leapfrog</td>\n",
       "    </tr>\n",
       "    <tr>\n",
       "      <th>4.0</th>\n",
       "      <td>26.0</td>\n",
       "      <td>QA</td>\n",
       "      <td>Bachelors</td>\n",
       "      <td>4.0</td>\n",
       "      <td>Senior</td>\n",
       "      <td>Leapfrog</td>\n",
       "    </tr>\n",
       "    <tr>\n",
       "      <th>5.0</th>\n",
       "      <td>38.0</td>\n",
       "      <td>PHP</td>\n",
       "      <td>Masters</td>\n",
       "      <td>1.0</td>\n",
       "      <td>Mid</td>\n",
       "      <td>F1soft</td>\n",
       "    </tr>\n",
       "  </tbody>\n",
       "</table>\n",
       "</div>"
      ],
      "text/plain": [
       "      Age Interest Qualification  Experience   Level   Company\n",
       "Id                                                            \n",
       "1.0  44.0      PHP            +2         0.0   Entry  Deerwalk\n",
       "2.0  25.0       JS     Bachelors         4.0  Senior    F1soft\n",
       "3.0  32.0   python     Bachelors         4.0  Senior  Leapfrog\n",
       "4.0  26.0       QA     Bachelors         4.0  Senior  Leapfrog\n",
       "5.0  38.0      PHP       Masters         1.0     Mid    F1soft"
      ]
     },
     "execution_count": 5,
     "metadata": {},
     "output_type": "execute_result"
    }
   ],
   "source": [
    "import pandas as pd\n",
    "data = pd.read_csv('data.csv')\n",
    "data.head()\n",
    "data.set_index('Id', inplace=True)\n",
    "data.head()"
   ]
  }
 ],
 "metadata": {
  "kernelspec": {
   "display_name": "Python 3",
   "language": "python",
   "name": "python3"
  },
  "language_info": {
   "codemirror_mode": {
    "name": "ipython",
    "version": 3
   },
   "file_extension": ".py",
   "mimetype": "text/x-python",
   "name": "python",
   "nbconvert_exporter": "python",
   "pygments_lexer": "ipython3",
   "version": "3.6.3"
  }
 },
 "nbformat": 4,
 "nbformat_minor": 2
}
