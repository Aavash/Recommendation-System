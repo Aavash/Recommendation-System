{
 "cells": [
  {
   "cell_type": "markdown",
   "metadata": {},
   "source": [
    "# Cosine Similarity"
   ]
  },
  {
   "cell_type": "code",
   "execution_count": 19,
   "metadata": {
    "collapsed": true
   },
   "outputs": [],
   "source": [
    "import pandas as pd\n",
    "import numpy as np\n",
    "from sklearn.metrics import pairwise_distances\n",
    "import csv"
   ]
  },
  {
   "cell_type": "code",
   "execution_count": 20,
   "metadata": {
    "collapsed": true
   },
   "outputs": [],
   "source": [
    "data = pd.read_csv('dataset.csv')\n",
    "data.set_index ('Id',inplace = True)"
   ]
  },
  {
   "cell_type": "code",
   "execution_count": 21,
   "metadata": {
    "collapsed": false
   },
   "outputs": [
    {
     "data": {
      "text/html": [
       "<div>\n",
       "<style scoped>\n",
       "    .dataframe tbody tr th:only-of-type {\n",
       "        vertical-align: middle;\n",
       "    }\n",
       "\n",
       "    .dataframe tbody tr th {\n",
       "        vertical-align: top;\n",
       "    }\n",
       "\n",
       "    .dataframe thead th {\n",
       "        text-align: right;\n",
       "    }\n",
       "</style>\n",
       "<table border=\"1\" class=\"dataframe\">\n",
       "  <thead>\n",
       "    <tr style=\"text-align: right;\">\n",
       "      <th></th>\n",
       "      <th>Experience</th>\n",
       "      <th>Company</th>\n",
       "      <th>php</th>\n",
       "      <th>python</th>\n",
       "      <th>qa</th>\n",
       "      <th>js</th>\n",
       "      <th>qualification</th>\n",
       "      <th>level</th>\n",
       "      <th>age</th>\n",
       "    </tr>\n",
       "    <tr>\n",
       "      <th>Id</th>\n",
       "      <th></th>\n",
       "      <th></th>\n",
       "      <th></th>\n",
       "      <th></th>\n",
       "      <th></th>\n",
       "      <th></th>\n",
       "      <th></th>\n",
       "      <th></th>\n",
       "      <th></th>\n",
       "    </tr>\n",
       "  </thead>\n",
       "  <tbody>\n",
       "    <tr>\n",
       "      <th>1.0</th>\n",
       "      <td>0.0</td>\n",
       "      <td>Deerwalk</td>\n",
       "      <td>1</td>\n",
       "      <td>0</td>\n",
       "      <td>0</td>\n",
       "      <td>0</td>\n",
       "      <td>1</td>\n",
       "      <td>1</td>\n",
       "      <td>1</td>\n",
       "    </tr>\n",
       "    <tr>\n",
       "      <th>2.0</th>\n",
       "      <td>4.0</td>\n",
       "      <td>F1soft</td>\n",
       "      <td>0</td>\n",
       "      <td>0</td>\n",
       "      <td>0</td>\n",
       "      <td>1</td>\n",
       "      <td>2</td>\n",
       "      <td>3</td>\n",
       "      <td>5</td>\n",
       "    </tr>\n",
       "    <tr>\n",
       "      <th>3.0</th>\n",
       "      <td>4.0</td>\n",
       "      <td>Leapfrog</td>\n",
       "      <td>0</td>\n",
       "      <td>1</td>\n",
       "      <td>0</td>\n",
       "      <td>0</td>\n",
       "      <td>2</td>\n",
       "      <td>3</td>\n",
       "      <td>3</td>\n",
       "    </tr>\n",
       "    <tr>\n",
       "      <th>4.0</th>\n",
       "      <td>4.0</td>\n",
       "      <td>Leapfrog</td>\n",
       "      <td>0</td>\n",
       "      <td>0</td>\n",
       "      <td>1</td>\n",
       "      <td>0</td>\n",
       "      <td>2</td>\n",
       "      <td>3</td>\n",
       "      <td>4</td>\n",
       "    </tr>\n",
       "    <tr>\n",
       "      <th>5.0</th>\n",
       "      <td>1.0</td>\n",
       "      <td>F1soft</td>\n",
       "      <td>1</td>\n",
       "      <td>0</td>\n",
       "      <td>0</td>\n",
       "      <td>0</td>\n",
       "      <td>3</td>\n",
       "      <td>2</td>\n",
       "      <td>2</td>\n",
       "    </tr>\n",
       "  </tbody>\n",
       "</table>\n",
       "</div>"
      ],
      "text/plain": [
       "     Experience   Company  php  python  qa  js  qualification  level  age\n",
       "Id                                                                       \n",
       "1.0         0.0  Deerwalk    1       0   0   0              1      1    1\n",
       "2.0         4.0    F1soft    0       0   0   1              2      3    5\n",
       "3.0         4.0  Leapfrog    0       1   0   0              2      3    3\n",
       "4.0         4.0  Leapfrog    0       0   1   0              2      3    4\n",
       "5.0         1.0    F1soft    1       0   0   0              3      2    2"
      ]
     },
     "execution_count": 21,
     "metadata": {},
     "output_type": "execute_result"
    }
   ],
   "source": [
    "data.head()"
   ]
  },
  {
   "cell_type": "code",
   "execution_count": 6,
   "metadata": {
    "collapsed": true
   },
   "outputs": [],
   "source": [
    "company = data['Company']"
   ]
  },
  {
   "cell_type": "code",
   "execution_count": 7,
   "metadata": {
    "collapsed": false
   },
   "outputs": [
    {
     "data": {
      "text/plain": [
       "Id\n",
       "1.0    Deerwalk\n",
       "2.0      F1soft\n",
       "3.0    Leapfrog\n",
       "4.0    Leapfrog\n",
       "5.0      F1soft\n",
       "Name: Company, dtype: object"
      ]
     },
     "execution_count": 7,
     "metadata": {},
     "output_type": "execute_result"
    }
   ],
   "source": [
    "company.head()"
   ]
  },
  {
   "cell_type": "code",
   "execution_count": 8,
   "metadata": {
    "collapsed": true
   },
   "outputs": [],
   "source": [
    "data.drop('Company', axis = 1, inplace= True)"
   ]
  },
  {
   "cell_type": "code",
   "execution_count": 9,
   "metadata": {
    "collapsed": false
   },
   "outputs": [
    {
     "data": {
      "text/html": [
       "<div>\n",
       "<style scoped>\n",
       "    .dataframe tbody tr th:only-of-type {\n",
       "        vertical-align: middle;\n",
       "    }\n",
       "\n",
       "    .dataframe tbody tr th {\n",
       "        vertical-align: top;\n",
       "    }\n",
       "\n",
       "    .dataframe thead th {\n",
       "        text-align: right;\n",
       "    }\n",
       "</style>\n",
       "<table border=\"1\" class=\"dataframe\">\n",
       "  <thead>\n",
       "    <tr style=\"text-align: right;\">\n",
       "      <th></th>\n",
       "      <th>Experience</th>\n",
       "      <th>php</th>\n",
       "      <th>python</th>\n",
       "      <th>qa</th>\n",
       "      <th>js</th>\n",
       "      <th>qualification</th>\n",
       "      <th>level</th>\n",
       "      <th>age</th>\n",
       "    </tr>\n",
       "    <tr>\n",
       "      <th>Id</th>\n",
       "      <th></th>\n",
       "      <th></th>\n",
       "      <th></th>\n",
       "      <th></th>\n",
       "      <th></th>\n",
       "      <th></th>\n",
       "      <th></th>\n",
       "      <th></th>\n",
       "    </tr>\n",
       "  </thead>\n",
       "  <tbody>\n",
       "    <tr>\n",
       "      <th>1.0</th>\n",
       "      <td>0.0</td>\n",
       "      <td>1</td>\n",
       "      <td>0</td>\n",
       "      <td>0</td>\n",
       "      <td>0</td>\n",
       "      <td>1</td>\n",
       "      <td>1</td>\n",
       "      <td>1</td>\n",
       "    </tr>\n",
       "    <tr>\n",
       "      <th>2.0</th>\n",
       "      <td>4.0</td>\n",
       "      <td>0</td>\n",
       "      <td>0</td>\n",
       "      <td>0</td>\n",
       "      <td>1</td>\n",
       "      <td>2</td>\n",
       "      <td>3</td>\n",
       "      <td>5</td>\n",
       "    </tr>\n",
       "    <tr>\n",
       "      <th>3.0</th>\n",
       "      <td>4.0</td>\n",
       "      <td>0</td>\n",
       "      <td>1</td>\n",
       "      <td>0</td>\n",
       "      <td>0</td>\n",
       "      <td>2</td>\n",
       "      <td>3</td>\n",
       "      <td>3</td>\n",
       "    </tr>\n",
       "    <tr>\n",
       "      <th>4.0</th>\n",
       "      <td>4.0</td>\n",
       "      <td>0</td>\n",
       "      <td>0</td>\n",
       "      <td>1</td>\n",
       "      <td>0</td>\n",
       "      <td>2</td>\n",
       "      <td>3</td>\n",
       "      <td>4</td>\n",
       "    </tr>\n",
       "    <tr>\n",
       "      <th>5.0</th>\n",
       "      <td>1.0</td>\n",
       "      <td>1</td>\n",
       "      <td>0</td>\n",
       "      <td>0</td>\n",
       "      <td>0</td>\n",
       "      <td>3</td>\n",
       "      <td>2</td>\n",
       "      <td>2</td>\n",
       "    </tr>\n",
       "  </tbody>\n",
       "</table>\n",
       "</div>"
      ],
      "text/plain": [
       "     Experience  php  python  qa  js  qualification  level  age\n",
       "Id                                                             \n",
       "1.0         0.0    1       0   0   0              1      1    1\n",
       "2.0         4.0    0       0   0   1              2      3    5\n",
       "3.0         4.0    0       1   0   0              2      3    3\n",
       "4.0         4.0    0       0   1   0              2      3    4\n",
       "5.0         1.0    1       0   0   0              3      2    2"
      ]
     },
     "execution_count": 9,
     "metadata": {},
     "output_type": "execute_result"
    }
   ],
   "source": [
    "data.head()"
   ]
  },
  {
   "cell_type": "code",
   "execution_count": 10,
   "metadata": {
    "collapsed": true
   },
   "outputs": [],
   "source": [
    "cosine_sim = 1-pairwise_distances(data, metric=\"cosine\")"
   ]
  },
  {
   "cell_type": "code",
   "execution_count": 11,
   "metadata": {
    "collapsed": true
   },
   "outputs": [],
   "source": [
    "result= pd.DataFrame(cosine_sim)"
   ]
  },
  {
   "cell_type": "code",
   "execution_count": 12,
   "metadata": {
    "collapsed": false,
    "scrolled": true
   },
   "outputs": [
    {
     "data": {
      "text/html": [
       "<div>\n",
       "<style scoped>\n",
       "    .dataframe tbody tr th:only-of-type {\n",
       "        vertical-align: middle;\n",
       "    }\n",
       "\n",
       "    .dataframe tbody tr th {\n",
       "        vertical-align: top;\n",
       "    }\n",
       "\n",
       "    .dataframe thead th {\n",
       "        text-align: right;\n",
       "    }\n",
       "</style>\n",
       "<table border=\"1\" class=\"dataframe\">\n",
       "  <thead>\n",
       "    <tr style=\"text-align: right;\">\n",
       "      <th></th>\n",
       "      <th>0</th>\n",
       "      <th>1</th>\n",
       "      <th>2</th>\n",
       "      <th>3</th>\n",
       "      <th>4</th>\n",
       "      <th>5</th>\n",
       "      <th>6</th>\n",
       "      <th>7</th>\n",
       "      <th>8</th>\n",
       "      <th>9</th>\n",
       "      <th>...</th>\n",
       "      <th>990</th>\n",
       "      <th>991</th>\n",
       "      <th>992</th>\n",
       "      <th>993</th>\n",
       "      <th>994</th>\n",
       "      <th>995</th>\n",
       "      <th>996</th>\n",
       "      <th>997</th>\n",
       "      <th>998</th>\n",
       "      <th>999</th>\n",
       "    </tr>\n",
       "  </thead>\n",
       "  <tbody>\n",
       "    <tr>\n",
       "      <th>0</th>\n",
       "      <td>1.000000</td>\n",
       "      <td>0.674200</td>\n",
       "      <td>0.640513</td>\n",
       "      <td>0.663489</td>\n",
       "      <td>0.917663</td>\n",
       "      <td>0.666667</td>\n",
       "      <td>0.629941</td>\n",
       "      <td>0.577350</td>\n",
       "      <td>0.746203</td>\n",
       "      <td>0.762493</td>\n",
       "      <td>...</td>\n",
       "      <td>0.753778</td>\n",
       "      <td>0.869626</td>\n",
       "      <td>0.603023</td>\n",
       "      <td>0.583333</td>\n",
       "      <td>0.753778</td>\n",
       "      <td>0.686803</td>\n",
       "      <td>0.606780</td>\n",
       "      <td>0.722315</td>\n",
       "      <td>0.753778</td>\n",
       "      <td>0.676123</td>\n",
       "    </tr>\n",
       "    <tr>\n",
       "      <th>1</th>\n",
       "      <td>0.674200</td>\n",
       "      <td>1.000000</td>\n",
       "      <td>0.950034</td>\n",
       "      <td>0.974172</td>\n",
       "      <td>0.804295</td>\n",
       "      <td>0.809040</td>\n",
       "      <td>0.968330</td>\n",
       "      <td>0.934199</td>\n",
       "      <td>0.948683</td>\n",
       "      <td>0.945894</td>\n",
       "      <td>...</td>\n",
       "      <td>0.935083</td>\n",
       "      <td>0.874123</td>\n",
       "      <td>0.853771</td>\n",
       "      <td>0.809040</td>\n",
       "      <td>0.975739</td>\n",
       "      <td>0.926085</td>\n",
       "      <td>0.963636</td>\n",
       "      <td>0.973970</td>\n",
       "      <td>0.772460</td>\n",
       "      <td>0.934477</td>\n",
       "    </tr>\n",
       "    <tr>\n",
       "      <th>2</th>\n",
       "      <td>0.640513</td>\n",
       "      <td>0.950034</td>\n",
       "      <td>1.000000</td>\n",
       "      <td>0.967994</td>\n",
       "      <td>0.808190</td>\n",
       "      <td>0.907393</td>\n",
       "      <td>0.907841</td>\n",
       "      <td>0.993838</td>\n",
       "      <td>0.955904</td>\n",
       "      <td>0.854676</td>\n",
       "      <td>...</td>\n",
       "      <td>0.965609</td>\n",
       "      <td>0.784873</td>\n",
       "      <td>0.965609</td>\n",
       "      <td>0.934081</td>\n",
       "      <td>0.941469</td>\n",
       "      <td>0.967793</td>\n",
       "      <td>0.993217</td>\n",
       "      <td>0.963858</td>\n",
       "      <td>0.820768</td>\n",
       "      <td>0.866131</td>\n",
       "    </tr>\n",
       "    <tr>\n",
       "      <th>3</th>\n",
       "      <td>0.663489</td>\n",
       "      <td>0.974172</td>\n",
       "      <td>0.967994</td>\n",
       "      <td>1.000000</td>\n",
       "      <td>0.811812</td>\n",
       "      <td>0.860078</td>\n",
       "      <td>0.965949</td>\n",
       "      <td>0.957664</td>\n",
       "      <td>0.943042</td>\n",
       "      <td>0.899388</td>\n",
       "      <td>...</td>\n",
       "      <td>0.955792</td>\n",
       "      <td>0.839254</td>\n",
       "      <td>0.889108</td>\n",
       "      <td>0.860078</td>\n",
       "      <td>0.955792</td>\n",
       "      <td>0.951877</td>\n",
       "      <td>0.974172</td>\n",
       "      <td>0.976246</td>\n",
       "      <td>0.844653</td>\n",
       "      <td>0.897201</td>\n",
       "    </tr>\n",
       "    <tr>\n",
       "      <th>4</th>\n",
       "      <td>0.917663</td>\n",
       "      <td>0.804295</td>\n",
       "      <td>0.808190</td>\n",
       "      <td>0.811812</td>\n",
       "      <td>1.000000</td>\n",
       "      <td>0.841191</td>\n",
       "      <td>0.722592</td>\n",
       "      <td>0.761606</td>\n",
       "      <td>0.880409</td>\n",
       "      <td>0.874639</td>\n",
       "      <td>...</td>\n",
       "      <td>0.899229</td>\n",
       "      <td>0.906845</td>\n",
       "      <td>0.760886</td>\n",
       "      <td>0.802955</td>\n",
       "      <td>0.899229</td>\n",
       "      <td>0.850842</td>\n",
       "      <td>0.773360</td>\n",
       "      <td>0.856171</td>\n",
       "      <td>0.899229</td>\n",
       "      <td>0.736788</td>\n",
       "    </tr>\n",
       "  </tbody>\n",
       "</table>\n",
       "<p>5 rows × 1000 columns</p>\n",
       "</div>"
      ],
      "text/plain": [
       "        0         1         2         3         4         5         6    \\\n",
       "0  1.000000  0.674200  0.640513  0.663489  0.917663  0.666667  0.629941   \n",
       "1  0.674200  1.000000  0.950034  0.974172  0.804295  0.809040  0.968330   \n",
       "2  0.640513  0.950034  1.000000  0.967994  0.808190  0.907393  0.907841   \n",
       "3  0.663489  0.974172  0.967994  1.000000  0.811812  0.860078  0.965949   \n",
       "4  0.917663  0.804295  0.808190  0.811812  1.000000  0.841191  0.722592   \n",
       "\n",
       "        7         8         9      ...          990       991       992  \\\n",
       "0  0.577350  0.746203  0.762493    ...     0.753778  0.869626  0.603023   \n",
       "1  0.934199  0.948683  0.945894    ...     0.935083  0.874123  0.853771   \n",
       "2  0.993838  0.955904  0.854676    ...     0.965609  0.784873  0.965609   \n",
       "3  0.957664  0.943042  0.899388    ...     0.955792  0.839254  0.889108   \n",
       "4  0.761606  0.880409  0.874639    ...     0.899229  0.906845  0.760886   \n",
       "\n",
       "        993       994       995       996       997       998       999  \n",
       "0  0.583333  0.753778  0.686803  0.606780  0.722315  0.753778  0.676123  \n",
       "1  0.809040  0.975739  0.926085  0.963636  0.973970  0.772460  0.934477  \n",
       "2  0.934081  0.941469  0.967793  0.993217  0.963858  0.820768  0.866131  \n",
       "3  0.860078  0.955792  0.951877  0.974172  0.976246  0.844653  0.897201  \n",
       "4  0.802955  0.899229  0.850842  0.773360  0.856171  0.899229  0.736788  \n",
       "\n",
       "[5 rows x 1000 columns]"
      ]
     },
     "execution_count": 12,
     "metadata": {},
     "output_type": "execute_result"
    }
   ],
   "source": [
    "result.head()"
   ]
  },
  {
   "cell_type": "code",
   "execution_count": 13,
   "metadata": {
    "collapsed": true
   },
   "outputs": [],
   "source": [
    "#find most similar user with user 2\n",
    "similar = result.iloc[[1]]"
   ]
  },
  {
   "cell_type": "code",
   "execution_count": 14,
   "metadata": {
    "collapsed": false
   },
   "outputs": [
    {
     "data": {
      "text/html": [
       "<div>\n",
       "<style scoped>\n",
       "    .dataframe tbody tr th:only-of-type {\n",
       "        vertical-align: middle;\n",
       "    }\n",
       "\n",
       "    .dataframe tbody tr th {\n",
       "        vertical-align: top;\n",
       "    }\n",
       "\n",
       "    .dataframe thead th {\n",
       "        text-align: right;\n",
       "    }\n",
       "</style>\n",
       "<table border=\"1\" class=\"dataframe\">\n",
       "  <thead>\n",
       "    <tr style=\"text-align: right;\">\n",
       "      <th></th>\n",
       "      <th>0</th>\n",
       "      <th>1</th>\n",
       "      <th>2</th>\n",
       "      <th>3</th>\n",
       "      <th>4</th>\n",
       "      <th>5</th>\n",
       "      <th>6</th>\n",
       "      <th>7</th>\n",
       "      <th>8</th>\n",
       "      <th>9</th>\n",
       "      <th>...</th>\n",
       "      <th>990</th>\n",
       "      <th>991</th>\n",
       "      <th>992</th>\n",
       "      <th>993</th>\n",
       "      <th>994</th>\n",
       "      <th>995</th>\n",
       "      <th>996</th>\n",
       "      <th>997</th>\n",
       "      <th>998</th>\n",
       "      <th>999</th>\n",
       "    </tr>\n",
       "  </thead>\n",
       "  <tbody>\n",
       "    <tr>\n",
       "      <th>1</th>\n",
       "      <td>0.6742</td>\n",
       "      <td>1.0</td>\n",
       "      <td>0.950034</td>\n",
       "      <td>0.974172</td>\n",
       "      <td>0.804295</td>\n",
       "      <td>0.80904</td>\n",
       "      <td>0.96833</td>\n",
       "      <td>0.934199</td>\n",
       "      <td>0.948683</td>\n",
       "      <td>0.945894</td>\n",
       "      <td>...</td>\n",
       "      <td>0.935083</td>\n",
       "      <td>0.874123</td>\n",
       "      <td>0.853771</td>\n",
       "      <td>0.80904</td>\n",
       "      <td>0.975739</td>\n",
       "      <td>0.926085</td>\n",
       "      <td>0.963636</td>\n",
       "      <td>0.97397</td>\n",
       "      <td>0.77246</td>\n",
       "      <td>0.934477</td>\n",
       "    </tr>\n",
       "  </tbody>\n",
       "</table>\n",
       "<p>1 rows × 1000 columns</p>\n",
       "</div>"
      ],
      "text/plain": [
       "      0    1         2         3         4        5        6         7    \\\n",
       "1  0.6742  1.0  0.950034  0.974172  0.804295  0.80904  0.96833  0.934199   \n",
       "\n",
       "        8         9      ...          990       991       992      993  \\\n",
       "1  0.948683  0.945894    ...     0.935083  0.874123  0.853771  0.80904   \n",
       "\n",
       "        994       995       996      997      998       999  \n",
       "1  0.975739  0.926085  0.963636  0.97397  0.77246  0.934477  \n",
       "\n",
       "[1 rows x 1000 columns]"
      ]
     },
     "execution_count": 14,
     "metadata": {},
     "output_type": "execute_result"
    }
   ],
   "source": [
    "similar"
   ]
  },
  {
   "cell_type": "code",
   "execution_count": 15,
   "metadata": {
    "collapsed": true
   },
   "outputs": [],
   "source": [
    "similar = similar.stack()"
   ]
  },
  {
   "cell_type": "code",
   "execution_count": 17,
   "metadata": {
    "collapsed": false
   },
   "outputs": [
    {
     "data": {
      "text/plain": [
       "1  0      0.674200\n",
       "   1      1.000000\n",
       "   2      0.950034\n",
       "   3      0.974172\n",
       "   4      0.804295\n",
       "   5      0.809040\n",
       "   6      0.968330\n",
       "   7      0.934199\n",
       "   8      0.948683\n",
       "   9      0.945894\n",
       "   10     0.875811\n",
       "   11     0.871847\n",
       "   12     0.881953\n",
       "   13     0.963636\n",
       "   14     0.953463\n",
       "   15     0.954994\n",
       "   16     0.611577\n",
       "   17     0.875811\n",
       "   18     0.948119\n",
       "   19     0.767523\n",
       "   20     0.971625\n",
       "   21     0.804030\n",
       "   22     0.984937\n",
       "   23     0.881953\n",
       "   24     0.964836\n",
       "   25     0.963128\n",
       "   26     0.823886\n",
       "   27     0.804943\n",
       "   28     0.955411\n",
       "   29     0.910170\n",
       "            ...   \n",
       "   970    0.835229\n",
       "   971    0.864900\n",
       "   972    0.799193\n",
       "   973    0.810163\n",
       "   974    0.840918\n",
       "   975    0.809040\n",
       "   976    0.815436\n",
       "   977    0.823411\n",
       "   978    0.931037\n",
       "   979    0.981818\n",
       "   980    0.896065\n",
       "   981    0.894427\n",
       "   982    0.966811\n",
       "   983    0.908249\n",
       "   984    0.974835\n",
       "   985    0.813116\n",
       "   986    0.966811\n",
       "   987    0.894427\n",
       "   988    0.971625\n",
       "   989    0.984937\n",
       "   990    0.935083\n",
       "   991    0.874123\n",
       "   992    0.853771\n",
       "   993    0.809040\n",
       "   994    0.975739\n",
       "   995    0.926085\n",
       "   996    0.963636\n",
       "   997    0.973970\n",
       "   998    0.772460\n",
       "   999    0.934477\n",
       "Length: 1000, dtype: float64"
      ]
     },
     "execution_count": 17,
     "metadata": {},
     "output_type": "execute_result"
    }
   ],
   "source": [
    "similar"
   ]
  },
  {
   "cell_type": "code",
   "execution_count": 16,
   "metadata": {
    "collapsed": true
   },
   "outputs": [],
   "source": [
    "\n",
    "final= similar.sort_values(ascending=False )"
   ]
  },
  {
   "cell_type": "code",
   "execution_count": 18,
   "metadata": {
    "collapsed": false
   },
   "outputs": [
    {
     "data": {
      "text/plain": [
       "1  855    1.000000\n",
       "   514    1.000000\n",
       "   1      1.000000\n",
       "   724    1.000000\n",
       "   956    0.996479\n",
       "   432    0.994987\n",
       "   35     0.994445\n",
       "   788    0.994053\n",
       "   88     0.992243\n",
       "   234    0.992243\n",
       "   905    0.992243\n",
       "   172    0.992159\n",
       "   326    0.991044\n",
       "   185    0.991044\n",
       "   521    0.991044\n",
       "   198    0.989901\n",
       "   191    0.989901\n",
       "   352    0.989901\n",
       "   522    0.987019\n",
       "   441    0.984937\n",
       "   101    0.984937\n",
       "   989    0.984937\n",
       "   22     0.984937\n",
       "   227    0.984076\n",
       "   360    0.984076\n",
       "   751    0.984076\n",
       "   821    0.981831\n",
       "   268    0.981831\n",
       "   694    0.981831\n",
       "   925    0.981831\n",
       "            ...   \n",
       "   215    0.696311\n",
       "   548    0.696311\n",
       "   0      0.674200\n",
       "   66     0.674200\n",
       "   829    0.674200\n",
       "   827    0.674200\n",
       "   871    0.662541\n",
       "   103    0.662541\n",
       "   647    0.662541\n",
       "   321    0.662541\n",
       "   961    0.661495\n",
       "   386    0.661495\n",
       "   934    0.661495\n",
       "   480    0.611577\n",
       "   490    0.611577\n",
       "   783    0.611577\n",
       "   324    0.611577\n",
       "   605    0.611577\n",
       "   610    0.611577\n",
       "   16     0.611577\n",
       "   615    0.611577\n",
       "   828    0.611577\n",
       "   559    0.583874\n",
       "   279    0.544949\n",
       "   51     0.544949\n",
       "   462    0.544949\n",
       "   143    0.544949\n",
       "   285    0.544949\n",
       "   297    0.544949\n",
       "   193    0.544949\n",
       "Length: 1000, dtype: float64"
      ]
     },
     "execution_count": 18,
     "metadata": {},
     "output_type": "execute_result"
    }
   ],
   "source": [
    "final"
   ]
  },
  {
   "cell_type": "code",
   "execution_count": 14,
   "metadata": {
    "collapsed": true
   },
   "outputs": [],
   "source": [
    "final = final.iloc[0:7:1]"
   ]
  },
  {
   "cell_type": "code",
   "execution_count": 15,
   "metadata": {
    "collapsed": false
   },
   "outputs": [
    {
     "data": {
      "text/plain": [
       "1  855    1.000000\n",
       "   514    1.000000\n",
       "   1      1.000000\n",
       "   724    1.000000\n",
       "   956    0.996479\n",
       "   432    0.994987\n",
       "   35     0.994445\n",
       "dtype: float64"
      ]
     },
     "execution_count": 15,
     "metadata": {},
     "output_type": "execute_result"
    }
   ],
   "source": [
    "final"
   ]
  },
  {
   "cell_type": "code",
   "execution_count": 16,
   "metadata": {
    "collapsed": false
   },
   "outputs": [
    {
     "data": {
      "text/plain": [
       "pandas.core.series.Series"
      ]
     },
     "execution_count": 16,
     "metadata": {},
     "output_type": "execute_result"
    }
   ],
   "source": [
    "type(final)"
   ]
  },
  {
   "cell_type": "code",
   "execution_count": 17,
   "metadata": {
    "collapsed": false
   },
   "outputs": [
    {
     "name": "stdout",
     "output_type": "stream",
     "text": [
      "[856, 515, 2, 725, 957, 433, 36]\n"
     ]
    }
   ],
   "source": [
    "rec_index = []\n",
    "for (index,value) in final.iteritems():\n",
    "    rec_index.append(index[1]+1)\n",
    "print(rec_index)"
   ]
  },
  {
   "cell_type": "code",
   "execution_count": 18,
   "metadata": {
    "collapsed": false
   },
   "outputs": [
    {
     "name": "stdout",
     "output_type": "stream",
     "text": [
      "Leapfrog\n",
      "Experience       4.0\n",
      "php              0.0\n",
      "python           0.0\n",
      "qa               0.0\n",
      "js               1.0\n",
      "qualification    2.0\n",
      "level            3.0\n",
      "age              5.0\n",
      "Name: 856.0, dtype: float64\n",
      "Aayulogic\n",
      "Experience       4.0\n",
      "php              0.0\n",
      "python           0.0\n",
      "qa               0.0\n",
      "js               1.0\n",
      "qualification    2.0\n",
      "level            3.0\n",
      "age              5.0\n",
      "Name: 515.0, dtype: float64\n",
      "F1soft\n",
      "Experience       4.0\n",
      "php              0.0\n",
      "python           0.0\n",
      "qa               0.0\n",
      "js               1.0\n",
      "qualification    2.0\n",
      "level            3.0\n",
      "age              5.0\n",
      "Name: 2.0, dtype: float64\n",
      "F1soft\n",
      "Experience       4.0\n",
      "php              0.0\n",
      "python           0.0\n",
      "qa               0.0\n",
      "js               1.0\n",
      "qualification    2.0\n",
      "level            3.0\n",
      "age              5.0\n",
      "Name: 725.0, dtype: float64\n",
      "Aayulogic\n",
      "Experience       5.0\n",
      "php              0.0\n",
      "python           0.0\n",
      "qa               0.0\n",
      "js               1.0\n",
      "qualification    2.0\n",
      "level            3.0\n",
      "age              6.0\n",
      "Name: 957.0, dtype: float64\n",
      "Aayulogic\n",
      "Experience       5.0\n",
      "php              0.0\n",
      "python           0.0\n",
      "qa               0.0\n",
      "js               1.0\n",
      "qualification    3.0\n",
      "level            3.0\n",
      "age              6.0\n",
      "Name: 433.0, dtype: float64\n",
      "Leapfrog\n",
      "Experience       5.0\n",
      "php              0.0\n",
      "python           0.0\n",
      "qa               0.0\n",
      "js               1.0\n",
      "qualification    2.0\n",
      "level            3.0\n",
      "age              5.0\n",
      "Name: 36.0, dtype: float64\n"
     ]
    }
   ],
   "source": [
    "for each in rec_index:\n",
    "    print(company[each])\n",
    "    print(data.loc[each])"
   ]
  },
  {
   "cell_type": "code",
   "execution_count": null,
   "metadata": {
    "collapsed": true
   },
   "outputs": [],
   "source": []
  }
 ],
 "metadata": {
  "kernelspec": {
   "display_name": "Python 3",
   "language": "python",
   "name": "python3"
  },
  "language_info": {
   "codemirror_mode": {
    "name": "ipython",
    "version": 3
   },
   "file_extension": ".py",
   "mimetype": "text/x-python",
   "name": "python",
   "nbconvert_exporter": "python",
   "pygments_lexer": "ipython3",
   "version": "3.6.0"
  }
 },
 "nbformat": 4,
 "nbformat_minor": 2
}
